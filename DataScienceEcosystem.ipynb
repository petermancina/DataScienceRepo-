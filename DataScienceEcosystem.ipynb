{
 "cells": [
  {
   "cell_type": "markdown",
   "id": "27cea1d4-52c9-4125-895e-616f17bbb7e4",
   "metadata": {},
   "source": [
    "# Data Science Tools and Ecosystem"
   ]
  },
  {
   "cell_type": "markdown",
   "id": "266a7bbc-417d-46ff-ac92-bddc24719ccb",
   "metadata": {},
   "source": [
    "## Author"
   ]
  },
  {
   "cell_type": "markdown",
   "id": "d80ce1ab-787d-4942-842e-c186a3fbe77f",
   "metadata": {},
   "source": [
    "Peter Mancina, PhD"
   ]
  },
  {
   "cell_type": "markdown",
   "id": "8df8813f-b37d-4877-9482-edb19838fb24",
   "metadata": {},
   "source": [
    "In this notebook, the data science ecosystem and common data science tools are summarized for your learning delight. Enjoy! "
   ]
  },
  {
   "cell_type": "markdown",
   "id": "8d8020d8-805e-4624-863e-dd6527183476",
   "metadata": {},
   "source": [
    "**Objectives**:\n",
    "- Name the most popular coding languages used by data scientists\n",
    "- Identify the most used coding libraries and understand what purposes they are used for\n",
    "- Learn three open source tools used by data scientists\n",
    "- View how data scientists use Python to evaluate three simple arithmetical equations"
   ]
  },
  {
   "cell_type": "markdown",
   "id": "4418e84a-70e2-4890-ba75-e485ba9cad47",
   "metadata": {},
   "source": [
    "## Coding Languages used by Data Scientists\n",
    "\n",
    "Some of the most popular languages that data scientists use are the following:\n",
    "\n",
    "1. Python\n",
    "2. R\n",
    "3. SQL\n",
    "4. Scala\n",
    "5. Julia\n",
    "6. JavaScript\n",
    "7. Java\n",
    "8. C/C++"
   ]
  },
  {
   "cell_type": "markdown",
   "id": "73fa69fe-c704-4ce6-b3d9-544998da0957",
   "metadata": {
    "tags": []
   },
   "source": [
    "## Data Science Libraries\n",
    "\n",
    "While thousands of libraries are used by data scientists depending upon the specific projects they are working on, the following are the most commonly used libraries:\n",
    "    \n",
    "### Python Libraries\n",
    "\n",
    "1. Pandas - data cleaning, manipulation, visualization, and analysis\n",
    "2. NumPy - scientific computing, multidimensional arrays, math, linear algebra\n",
    "3. matplotlib - visualiztion\n",
    "4. seaborn - statistical data visualizations\n",
    "5. scikit-learn - statistics, modeling regression, classification, and clustering\n",
    "6. PyTorch - for experimenting with deep learning models\n",
    "     \n",
    "### R Libraries\n",
    "\n",
    "1. dplyr - data manipulation\n",
    "2. stringr - string manipulation \n",
    "3. ggplot2 - data visualization- histograms, bar charts, scatterplots\n",
    "4. GGally - for use with ggplot2 - plot graphing\n",
    "5. caret - machine learning\n",
    "6. lattice - multivariable data sets \n",
    "7. Plotly - web-based data visualizations, graphing\n",
    "8. leaflet - plots and open source interactive maps\n",
    "    \n",
    "### Scala Libraries\n",
    "\n",
    "1. Vegas - statistical data visualizations\n",
    "2. BigDL - deep learning\n",
    "     \n",
    "### For AI with Python, R, Scala, and SQL\n",
    "\n",
    "1. TensorFlow - production and deployment of AI and deep learning models\n",
    "2. Keras - building deep learning models\n",
    "3. Apache Spark - big data analytics"
   ]
  },
  {
   "cell_type": "markdown",
   "id": "9c56dd74-7c97-4662-952b-200d8f81e574",
   "metadata": {
    "jp-MarkdownHeadingCollapsed": true,
    "tags": []
   },
   "source": [
    "| DATA SCIENCE TOOLS |\n",
    "|---|\n",
    "|JUPYTERLab/Lite - open-source tool for creating and interacting with documents that combine code, visualizations, and explanatary text, facilitating data analysis, exploration, and sharing|\n",
    "|RSTUDIO - open-source integrated development environment specifically designed for working with the R programming language, providing tools for writing, running, and analyzing R code.|\n",
    "|ZEPPELIN - open-source web-based application that allows data scientists and analysts to collaboratively interact with data via notebooks that support various data visualization, coding, and collaboration features; integrates well with Apache Spark and Hadoop and working on big data sets."
   ]
  },
  {
   "cell_type": "markdown",
   "id": "2b25b432-6783-4aef-a7c7-ec4b9cf91030",
   "metadata": {},
   "source": [
    "### How Data Scientists Evaluate Arithmetic Expressions in Python"
   ]
  },
  {
   "cell_type": "markdown",
   "id": "0115920d-9d47-4e40-8fe9-cfbcc0781f34",
   "metadata": {
    "tags": []
   },
   "source": [
    "Here is a simple arithmetic expression to multiply and then and integers:"
   ]
  },
  {
   "cell_type": "code",
   "execution_count": 3,
   "id": "1252f739-7f16-4842-9f45-b18e1e6edb1c",
   "metadata": {
    "tags": []
   },
   "outputs": [
    {
     "data": {
      "text/plain": [
       "17"
      ]
     },
     "execution_count": 3,
     "metadata": {},
     "output_type": "execute_result"
    }
   ],
   "source": [
    "(3*4)+5"
   ]
  },
  {
   "cell_type": "markdown",
   "id": "bd677da0-0bdb-432b-925f-4a7ebfabc35b",
   "metadata": {},
   "source": [
    "This will convert 200 minutes to hours by dividing by 60:"
   ]
  },
  {
   "cell_type": "code",
   "execution_count": 4,
   "id": "d61ee599-57d3-4184-b06a-a8774d07e6a4",
   "metadata": {
    "tags": []
   },
   "outputs": [
    {
     "data": {
      "text/plain": [
       "3.3333333333333335"
      ]
     },
     "execution_count": 4,
     "metadata": {},
     "output_type": "execute_result"
    }
   ],
   "source": [
    "200/60"
   ]
  }
 ],
 "metadata": {
  "kernelspec": {
   "display_name": "Python 3 (ipykernel)",
   "language": "python",
   "name": "python3"
  },
  "language_info": {
   "codemirror_mode": {
    "name": "ipython",
    "version": 3
   },
   "file_extension": ".py",
   "mimetype": "text/x-python",
   "name": "python",
   "nbconvert_exporter": "python",
   "pygments_lexer": "ipython3",
   "version": "3.11.5"
  }
 },
 "nbformat": 4,
 "nbformat_minor": 5
}
